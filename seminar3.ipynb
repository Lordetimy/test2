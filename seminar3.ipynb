{
  "nbformat": 4,
  "nbformat_minor": 0,
  "metadata": {
    "colab": {
      "provenance": [],
      "include_colab_link": true
    },
    "kernelspec": {
      "name": "python3",
      "display_name": "Python 3"
    },
    "language_info": {
      "name": "python"
    }
  },
  "cells": [
    {
      "cell_type": "markdown",
      "metadata": {
        "id": "view-in-github",
        "colab_type": "text"
      },
      "source": [
        "<a href=\"https://colab.research.google.com/github/Lordetimy/test2/blob/main/seminar3.ipynb\" target=\"_parent\"><img src=\"https://colab.research.google.com/assets/colab-badge.svg\" alt=\"Open In Colab\"/></a>"
      ]
    },
    {
      "cell_type": "code",
      "execution_count": null,
      "metadata": {
        "id": "cyfww44BBer6"
      },
      "outputs": [],
      "source": [
        "from IPython.display import display, Math\n",
        "import numpy as np\n",
        "import matplotlib\n",
        "import matplotlib.pyplot as plt"
      ]
    },
    {
      "cell_type": "code",
      "source": [
        "def add(x, y): return ['+', x, y]\n",
        "def sub(x, y): return ['-', x, y]\n",
        "def mul(x, y): return ['*', x, y]\n",
        "def div(x, y): return ['/', x, y]\n",
        "def power(x, y): return ['^', x, y]\n",
        "def negative(x): return ['~', x]\n",
        "def sin_(x): return ['sin', x]\n",
        "def cos_(x): return ['cos', x]\n",
        "def sqrt_(x): return ['sqrt', x]\n",
        "def log_(x): return ['log', x]\n",
        "def ln_(x): return ['ln', x]\n",
        "def abs(x): return ['abs',x]\n",
        "def tan_(x): return ['tan', x]\n",
        "def arctan_(x): return ['arctan', x]\n",
        "def arcsin_(x): return ['arcsin', x]\n",
        "def arccos_(x): return ['arccos', x]\n",
        "def sinh_(x): return ['sinh', x]\n",
        "def cosh_(x): return ['cosh', x]\n",
        "def tanh_(x): return ['tanh', x]\n",
        "def arctanh_(x): return ['arctanh', x]\n",
        "def arcsinh_(x): return ['arcsinh', x]\n",
        "def arccosh_(x): return ['arccosh', x]\n",
        "def exp_(x): return ['exp', x]\n",
        "def pi_(x): return ['pi', x]"
      ],
      "metadata": {
        "id": "vjTq7k6CBi6W"
      },
      "execution_count": null,
      "outputs": []
    },
    {
      "cell_type": "code",
      "source": [
        "f = mul(2, add(3, div('x', cos_('x'))))\n",
        "print(f)\n"
      ],
      "metadata": {
        "colab": {
          "base_uri": "https://localhost:8080/"
        },
        "id": "qLvAwZLfB6PM",
        "outputId": "39deb112-d55a-4744-b117-9f2aa86bc3e9"
      },
      "execution_count": null,
      "outputs": [
        {
          "output_type": "stream",
          "name": "stdout",
          "text": [
            "['*', 2, ['+', 3, ['/', 'x', ['cos', 'x']]]]\n"
          ]
        }
      ]
    },
    {
      "cell_type": "code",
      "source": [
        "def fix(x):\n",
        "  if isinstance(x, Expression):\n",
        "    return x\n",
        "  return Expression(x)\n",
        "\n",
        "class Expression:\n",
        "  def __init__(self, x):\n",
        "    self.T = x\n",
        "  def __add__(self, x):\n",
        "    return Expression(add(self.T, fix(x).T))\n",
        "  def __radd__(self, x):\n",
        "    return Expression(add(fix(x).T, self.T))\n",
        "  def __sub__(self, x):\n",
        "    return Expression(sub(self.T, fix(x).T))\n",
        "  def __rsub__(self, x):\n",
        "    return Expression(sub(fix(x).T, self.T))\n",
        "  def __mul__(self, x):\n",
        "    return Expression(mul(self.T, fix(x).T))\n",
        "  def __rmul__(self, x):\n",
        "    return Expression(mul(fix(x).T, self.T))\n",
        "  def __truediv__(self, x):\n",
        "    return Expression(div(self.T, fix(x).T))\n",
        "  def __rtruediv__(self, x):\n",
        "    return Expression(div(fix(x).T, self.T))\n",
        "  def __pow__(self, x):\n",
        "    return Expression(power(self.T, fix(x).T))\n",
        "  def __rpow__(self, x):\n",
        "    return Expression(power(fix(x).T, self.T))\n",
        "  def __neg__(self):\n",
        "    return Expression(negative(self.T))  \n",
        "  def __abs__(self):\n",
        "    return Expression(abs(self.T)) \n",
        " \n",
        "def sin(x):\n",
        "  return Expression(sin_(fix(x).T))\n",
        "def cos(x):\n",
        "  return Expression(cos_(fix(x).T))\n",
        "def sqrt(x):\n",
        "  return Expression(sqrt_(fix(x).T))\n",
        "def log(x):\n",
        "  return Expression(log_(fix(x).T))\n",
        "def ln(x):\n",
        "  return Expression(ln_(fix(x).T))\n",
        "def arcsin(x):\n",
        "  return Expression(arcsin_(fix(x).T))\n",
        "def arccos(x):\n",
        "  return Expression(arccos_(fix(x).T))\n",
        "def tan(x):\n",
        "  return Expression(tan_(fix(x).T))\n",
        "def arctan(x):\n",
        "  return Expression(arctan_(fix(x).T))\n",
        "def sinh(x):\n",
        "  return Expression(sinh_(fix(x).T))\n",
        "def cosh(x):\n",
        "  return Expression(cosh_(fix(x).T))\n",
        "def arcsinh(x):\n",
        "  return Expression(arcsinh_(fix(x).T))\n",
        "def arccosh(x):\n",
        "  return Expression(arccosh_(fix(x).T))\n",
        "def tanh(x):\n",
        "  return Expression(tanh_(fix(x).T))\n",
        "def arctanh(x):\n",
        "  return Expression(arctanh_(fix(x).T))\n",
        "def exp(x):\n",
        "  return Expression(exp_(fix(x).T))\n",
        "def pi(x):\n",
        "  return Expression(pi_(fix(x).T))"
      ],
      "metadata": {
        "id": "xIkrjFtLCELz"
      },
      "execution_count": null,
      "outputs": []
    },
    {
      "cell_type": "code",
      "source": [
        "def show(x):\n",
        "  display(Math(latex(x)))\n",
        "\n",
        "def enclose(x):\n",
        "  return f'\\\\left( {x} \\\\right)'\n",
        "\n",
        "def latex(x):\n",
        "  if isinstance(x, Expression):\n",
        "    return latex(x.T)\n",
        "\n",
        "  if isinstance(x, (int, str)):\n",
        "    return str(x)\n",
        "\n",
        "  op = x[0]\n",
        "  if op in '+-*/^_sqrt':\n",
        "    l, r = latex(x[1]), latex(x[2])\n",
        "    if op == '+':\n",
        "      return f'{l} + {r}'\n",
        "    if op == '-':\n",
        "      return f'{l} - {r}'\n",
        "    if op == '*':\n",
        "      return f'{l} \\\\cdot {r}'\n",
        "    if op == '/':\n",
        "      return f'\\\\dfrac{{{l}}}{{{r}}}'\n",
        "    if op == '^':\n",
        "      if isinstance(x[1], list):\n",
        "        l = enclose(l)\n",
        "      return f'{{{l}}}^{{{r}}}'\n",
        "   \n",
        "  else: \n",
        "    a = latex(x[1])\n",
        "    if op == '~':\n",
        "      return f'- {a}'\n",
        "    if op == 'sin':\n",
        "      return f'\\\\sin {a}'\n",
        "    if op == 'cos':\n",
        "      return f'\\\\cos {a}'\n",
        "    if op == 'sqrt':\n",
        "      return f'\\\\sqrt{{{a}}}'\n",
        "    if op =='log':\n",
        "      return f'\\\\log{a}'\n",
        "    if op == 'ln':\n",
        "      return f'\\\\ln{a}'\n",
        "    if op =='abs':\n",
        "      return f'\\\\abs{a}'\n",
        "    if op == 'arcsin':\n",
        "      return f'\\\\arcsin {a}'\n",
        "    if op == 'arccos':\n",
        "      return f'\\\\arccos {a}'\n",
        "    if op == 'tan':\n",
        "      return f'\\\\tan {a}'\n",
        "    if op == 'arctan':\n",
        "      return f'\\\\arctan {a}'\n",
        "    if op == 'arcsinh':\n",
        "      return f'\\\\arcsinh {a}'\n",
        "    if op == 'arccosh':\n",
        "      return f'\\\\arccosh {a}'\n",
        "    if op == 'tanh':\n",
        "      return f'\\\\tanh {a}'\n",
        "    if op == 'arctanh':\n",
        "      return f'\\\\arctanh {a}'\n",
        "    if op == 'sinh':\n",
        "      return f'\\\\sinh {a}'\n",
        "    if op == 'cosh':\n",
        "      return f'\\\\cosh {a}'\n",
        "    if op == 'exp':\n",
        "      return f'\\\\exp {a}'\n",
        "    if op == 'pi':\n",
        "      return f'\\\\pi {a}'"
      ],
      "metadata": {
        "id": "P_4l-r19DsfI"
      },
      "execution_count": null,
      "outputs": []
    },
    {
      "cell_type": "code",
      "source": [
        "def symbols(s):\n",
        "  S = s.split()\n",
        "  if len(S) == 1:\n",
        "    return Expression(s)\n",
        "  return (Expression(i) for i in S)\n"
      ],
      "metadata": {
        "id": "TdB73zft_cw3"
      },
      "execution_count": null,
      "outputs": []
    },
    {
      "cell_type": "code",
      "source": [
        "def evalf(x, arg = {}):\n",
        "  if isinstance(x, Expression):\n",
        "    if isinstance(arg, dict):\n",
        "      arg = {i.T: arg[i] for i in arg}\n",
        "    else:\n",
        "      arg = {'$': arg}\n",
        "    return evalf(x.T, arg)\n",
        "\n",
        "  if isinstance(x, int):\n",
        "    return x\n",
        "\n",
        "  if isinstance(x, str):\n",
        "    if x in arg:\n",
        "      return arg[x]\n",
        "    return arg['$']\n",
        "\n",
        "  op = x[0]\n",
        "  if op in '+-*/^':\n",
        "    l, r = evalf(x[1], arg), evalf(x[2], arg)\n",
        "    if op == '+':\n",
        "      return l + r\n",
        "    if op == '-':\n",
        "      return l - r\n",
        "    if op == '*':\n",
        "      return l * r\n",
        "    if op == '/':\n",
        "      return l / r\n",
        "    if op == '^':\n",
        "      return l ** r\n",
        "    \n",
        "  else:\n",
        "    a = evalf(x[1], arg)\n",
        "    if op == '~':\n",
        "      return - a\n",
        "    if op == 'sin':\n",
        "      return np.sin(a)\n",
        "    if op == 'cos':\n",
        "      return np.cos(a)\n",
        "    if op == 'sqrt':\n",
        "      return np.sqrt(a)\n",
        "    if op == 'log':\n",
        "      return np.log(a)\n",
        "    if op == 'ln':\n",
        "      return np.log10(a)\n",
        "    if op =='abs':\n",
        "      return np.abs(a)\n",
        "    if op == 'arcsin':\n",
        "      return np.arcsin(a)\n",
        "    if op == 'arccos':\n",
        "      return np.arccos(a)\n",
        "    if op == 'tan':\n",
        "      return np.tan(a)\n",
        "    if op == 'arctan':\n",
        "      return np.arctan(a)\n",
        "    if op == 'arcsinh':\n",
        "      return np.arcsinh(a)\n",
        "    if op == 'arccosh':\n",
        "      return np.arccosh(a)\n",
        "    if op == 'tanh':\n",
        "      return np.tanh(a)\n",
        "    if op == 'arctanh':\n",
        "      return np.arctanh(a)\n",
        "    if op == 'sinh':\n",
        "      return np.sinh(a)\n",
        "    if op == 'cosh':\n",
        "      return np.cosh(a)\n",
        "    if op == 'exp':\n",
        "      return np.exp(a)\n",
        "    if op == 'pi':\n",
        "      return np.pi(a)\n",
        "  return None\n"
      ],
      "metadata": {
        "id": "CE1LcNplGkPi"
      },
      "execution_count": null,
      "outputs": []
    },
    {
      "cell_type": "code",
      "source": [
        "x = Expression('x')\n",
        "y = Expression('y')"
      ],
      "metadata": {
        "id": "0WHn_V0dwiHu"
      },
      "execution_count": null,
      "outputs": []
    },
    {
      "cell_type": "code",
      "source": [
        "f1 = Expression(1) / 2 + 3\n",
        "f2 = pi(1)\n",
        "f3 = x + y\n",
        "show(f1)\n",
        "show(f2)\n",
        "show(f3)"
      ],
      "metadata": {
        "colab": {
          "base_uri": "https://localhost:8080/",
          "height": 94
        },
        "id": "4-BF5x2eG5JM",
        "outputId": "b862446c-595f-458a-f0ce-fdee89fd60fe"
      },
      "execution_count": null,
      "outputs": [
        {
          "output_type": "display_data",
          "data": {
            "text/plain": [
              "<IPython.core.display.Math object>"
            ],
            "text/latex": "$\\displaystyle \\dfrac{1}{2} + 3$"
          },
          "metadata": {}
        },
        {
          "output_type": "display_data",
          "data": {
            "text/plain": [
              "<IPython.core.display.Math object>"
            ],
            "text/latex": "$\\displaystyle \\pi 1$"
          },
          "metadata": {}
        },
        {
          "output_type": "display_data",
          "data": {
            "text/plain": [
              "<IPython.core.display.Math object>"
            ],
            "text/latex": "$\\displaystyle x + y$"
          },
          "metadata": {}
        }
      ]
    }
  ]
}