{
  "nbformat": 4,
  "nbformat_minor": 0,
  "metadata": {
    "colab": {
      "provenance": [],
      "include_colab_link": true
    },
    "kernelspec": {
      "name": "python3",
      "display_name": "Python 3"
    },
    "language_info": {
      "name": "python"
    }
  },
  "cells": [
    {
      "cell_type": "markdown",
      "metadata": {
        "id": "view-in-github",
        "colab_type": "text"
      },
      "source": [
        "<a href=\"https://colab.research.google.com/github/Lordetimy/test2/blob/main/Kursovaya.ipynb\" target=\"_parent\"><img src=\"https://colab.research.google.com/assets/colab-badge.svg\" alt=\"Open In Colab\"/></a>"
      ]
    },
    {
      "cell_type": "code",
      "source": [
        "#@title Import\n",
        "import math\n",
        "from scipy.optimize import fsolve"
      ],
      "metadata": {
        "id": "JmAF1OLcoIAy"
      },
      "execution_count": null,
      "outputs": []
    },
    {
      "cell_type": "code",
      "source": [
        "#@title Переменные\n",
        "#D-Годовой спрос\n",
        "#H-затраты хранения на ед.\n",
        "#S-Издержки на размещение заказа\n",
        "#Dd -затраты хранения на ед.(в день)\n",
        "#Sd - стандартное отклонение спроса (день)\n",
        "#Psl -желаемый уровень обслуживания\n",
        "#L - время выполнения заказа\n",
        "#T - срок между заказами \n",
        "#m - кол-во дней в году\n",
        "#SS - страховой запас\n",
        "#EOQ - экономический размер заказа\n",
        "#Qreal - объем заказа\n",
        "#N - число заказов в год\n",
        "#TH -  издержки хранения\n",
        "#TS - издержки заказа\n",
        "#TSH = TS+TH (полные издержки)\n",
        "#Sl - Стандартное откл. спроса за время выполнения заказа\n",
        "#Esl - Кол-во необслуженных клиентов\n",
        "#z - отклонение запаса от среднего, обеспечивающий заданный риск дефицита\n",
        "#a - риск дефицита\n",
        "#ROP - точка перезаказа\n",
        "#TL = T+L  (полное время для получения заказа)\n",
        "#I - остатки на складе\n",
        "#Slt - Стандартное откл спроса за время выполнения заказа и время между заказами\n",
        "#Qftmp - необходимый заказ"
      ],
      "metadata": {
        "cellView": "form",
        "id": "aDiXxLyqpAfz"
      },
      "execution_count": null,
      "outputs": []
    },
    {
      "cell_type": "code",
      "execution_count": null,
      "metadata": {
        "id": "lXPSUpXMVW-K"
      },
      "outputs": [],
      "source": [
        "#@title Переменные из уcловий\n",
        "D=2400\n",
        "H=4\n",
        "S=5\n",
        "Sd=4\n",
        "Psl=0.98\n",
        "L=7\n",
        "m=365\n",
        "Qreal=100\n",
        "\n"
      ]
    },
    {
      "cell_type": "code",
      "source": [
        "#@title вычисленные переменные 1\n",
        "N=D/Qreal\n",
        "Dd=D/m\n",
        "T=m/N\n",
        "EQQ=math.sqrt(D*S*2/H)\n",
        "TH=H*Qreal/2\n",
        "TS=D*S/Qreal\n",
        "TSH=TH+TS\n",
        "Sl=Sd*math.sqrt(L)\n",
        "Esl=(1-Psl)*Qreal\n"
      ],
      "metadata": {
        "id": "4ZWQt-f6V-bA"
      },
      "execution_count": null,
      "outputs": []
    },
    {
      "cell_type": "code",
      "source": [
        "#@title Решение 1\n",
        "def equations(vars):\n",
        "    a, z = vars\n",
        "    eq1 = Sl*(1/math.sqrt(2*math.pi)*math.exp(-z**2/2)-z*a)-Esl\n",
        "    eq2 = a-(1-(1+math.erf(z/math.sqrt(2)))/2)\n",
        "    return [eq1, eq2]\n",
        "\n",
        "a, z =  fsolve(equations, (0,0))\n",
        "ROP=Dd*L+Sl*z\n",
        "print(\"Точка перезаказа: \", ROP)"
      ],
      "metadata": {
        "colab": {
          "base_uri": "https://localhost:8080/"
        },
        "id": "S0ZPyE3EYrd0",
        "outputId": "9349a312-205c-4c67-ebf8-ba2cb7cc1291"
      },
      "execution_count": null,
      "outputs": [
        {
          "output_type": "stream",
          "name": "stdout",
          "text": [
            "Точка перезаказа:  51.6263054272888\n"
          ]
        }
      ]
    },
    {
      "cell_type": "code",
      "source": [
        "#@title вычесленные переменные 2\n",
        "Qreal2=77\n",
        "N2=D/Qreal2\n",
        "T2=m/N2\n",
        "TH2=H*Qreal2/2\n",
        "TS2=D*S/Qreal2\n",
        "TSH2=TH2+TS2\n",
        "Esl2=(1-Psl)*Qreal2\n",
        "DATA=[N2,T2, TH2, TS2, TSH2, Esl2]\n"
      ],
      "metadata": {
        "id": "OFWdPR9_CYwc"
      },
      "execution_count": null,
      "outputs": []
    },
    {
      "cell_type": "code",
      "source": [
        "#@title Решение 2\n",
        "def equations(vars):\n",
        "    a, z = vars\n",
        "    eq1 = Sl*(1/math.sqrt(2*math.pi)*math.exp(-z**2/2)-z*a)-Esl2\n",
        "    eq2 = a-(1-(1+math.erf(z/math.sqrt(2)))/2)\n",
        "    return [eq1, eq2]\n",
        "\n",
        "a2, z2 =  fsolve(equations, (0,0))\n",
        "ROP2=Dd*L+Sl*z2\n",
        "print(\"Точка перезаказа 2: \", ROP2)"
      ],
      "metadata": {
        "colab": {
          "base_uri": "https://localhost:8080/"
        },
        "cellView": "form",
        "id": "j-8IsSj9E6eA",
        "outputId": "f4a1589c-2561-4bbb-c21b-3b30d0091bce"
      },
      "execution_count": null,
      "outputs": [
        {
          "output_type": "stream",
          "name": "stdout",
          "text": [
            "Точка перезаказа 2:  53.32096804010094\n"
          ]
        }
      ]
    },
    {
      "cell_type": "code",
      "source": [
        "#@title вычесленные переменные 3\n",
        "TL=round(T+L)\n",
        "I=round(ROP,1)\n",
        "Slt=Sd*math.sqrt(TL)"
      ],
      "metadata": {
        "id": "DDn0lzpGGzwx"
      },
      "execution_count": null,
      "outputs": []
    },
    {
      "cell_type": "code",
      "source": [
        "#@title Решение 3\n",
        "def equations(vars):\n",
        "    a, z = vars\n",
        "    eq1 = Slt*(1/math.sqrt(2*math.pi)*math.exp(-z**2/2)-z*a)-Esl\n",
        "    eq2 = a-(1-(1+math.erf(z/math.sqrt(2)))/2)\n",
        "    return [eq1, eq2]\n",
        "\n",
        "a3, z3 =  fsolve(equations, (0,0))\n",
        "Qftpm=Dd*TL+z3*Slt-I\n",
        "print(\"Необходимый заказ: \", Qftpm)"
      ],
      "metadata": {
        "colab": {
          "base_uri": "https://localhost:8080/"
        },
        "id": "1jeZ1dyLLhv8",
        "outputId": "abd25b78-e51e-4a76-9a24-1cce00bc65f2"
      },
      "execution_count": null,
      "outputs": [
        {
          "output_type": "stream",
          "name": "stdout",
          "text": [
            "Необходимый заказ:  109.32886312231119\n"
          ]
        }
      ]
    },
    {
      "cell_type": "code",
      "source": [
        "#@title Решение 4\n",
        "Qftmp2=100\n",
        "def equations(vars):\n",
        "    a, z, Psl, Esl= vars\n",
        "    eq1 = Slt*(1/math.sqrt(2*math.pi)*math.exp(-z**2/2)-z*a)-(Esl)\n",
        "    eq2 = a-(1-(1+math.erf(z/math.sqrt(2)))/2)\n",
        "    eq3 = Psl-(1-Esl/Qftmp2)\n",
        "    eq4= Qftmp2-Dd*TL-z*Slt+I\n",
        "    return [eq1, eq2, eq3, eq4]\n",
        "a4, z4, Psl4, Esl4 =  fsolve(equations, (0,0,0,0))\n",
        "print(\"Сервийсный уровень = \",round(Psl4*100, 2),\"%\")"
      ],
      "metadata": {
        "colab": {
          "base_uri": "https://localhost:8080/"
        },
        "id": "5iXOWSFWQccQ",
        "outputId": "4318fa34-99d0-41a5-fecb-ac9e106bfe20"
      },
      "execution_count": null,
      "outputs": [
        {
          "output_type": "stream",
          "name": "stdout",
          "text": [
            "Сервийсный уровень =  95.48 %\n"
          ]
        }
      ]
    },
    {
      "cell_type": "markdown",
      "source": [
        "Ответы на вопросы:\n",
        "\n",
        "\n",
        "1.   точка перезаказа = 52\n",
        "2.   экономический размер заказа =72, точка перезаказа = 54\n",
        "3.   необходимый заказ = 110, увеличилось на 10 ед., связано с переходом от модели фиксированного размерв заказа к модели с фиксированным периудом между заказами.\n",
        "4.   сервисный уровень = 95.48%\n",
        "\n"
      ],
      "metadata": {
        "id": "csIMHrl7GBK5"
      }
    }
  ]
}